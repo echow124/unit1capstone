{
 "cells": [
  {
   "cell_type": "markdown",
   "metadata": {},
   "source": [
    "## Narrative Analytics and Experimentation: Birmingham Parking\n",
    "\n",
    "In the fundamentals capstone, I examined data on parking occupancy and found that the capacity would change from time to time. It may be useful to analyze how parking capacity affects the shopping experience of those who are going to the shopping center. Or, it may be useful to know if there are enough parking lots spaces for those going to the shopping center."
   ]
  },
  {
   "cell_type": "markdown",
   "metadata": {},
   "source": [
    "### A/B Testing\n",
    "\n",
    "The element we would control for is the number of parking spaces. Group A will have 100 parking spaces, while group B will have 150 parking spaces. In order to rule out the increased amount of shopping due to holiday seasons, we will test these two groups during the month of April. The number of customers will fluctuate between the weekdays and the weekends, but we've decided to keep the weekends in the data collection. We will collect the data for 2 to 3 weeks. One of the things to consider when doing this test in April is that April is tax season. This may effect the shopping behavior of the customers. In addition, if we run the test too long, it may run into summer, which may also affect the shopping behavior (seasonality). On the whole, April seems to be least affected by holidays or seasons, so this is why we will continue to run the tests despite it being in the middle of tax season. In order to see if there are enough parking spaces, we will measure how often the parking lot is filled to full capacity.\n"
   ]
  },
  {
   "cell_type": "markdown",
   "metadata": {},
   "source": [
    "### T-testing\n",
    "\n",
    "After this data collection, we will measure it to see if it is statistically significant. In order to do this, we will use the t-test. The t-test will tell us whether the difference in the means of the two groups will be larger than the estimate of the means. If it is, then the data is statistically significant."
   ]
  },
  {
   "cell_type": "code",
   "execution_count": null,
   "metadata": {},
   "outputs": [],
   "source": []
  }
 ],
 "metadata": {
  "kernelspec": {
   "display_name": "Python 3",
   "language": "python",
   "name": "python3"
  },
  "language_info": {
   "codemirror_mode": {
    "name": "ipython",
    "version": 3
   },
   "file_extension": ".py",
   "mimetype": "text/x-python",
   "name": "python",
   "nbconvert_exporter": "python",
   "pygments_lexer": "ipython3",
   "version": "3.7.2"
  }
 },
 "nbformat": 4,
 "nbformat_minor": 2
}
